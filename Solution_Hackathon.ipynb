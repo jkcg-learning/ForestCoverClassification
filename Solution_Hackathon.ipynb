{
 "cells": [
  {
   "cell_type": "code",
   "execution_count": 7,
   "metadata": {},
   "outputs": [],
   "source": [
    "import numpy as np\n",
    "import pandas as pd\n",
    "import matplotlib.pyplot as plt\n",
    "import seaborn as sns\n",
    "import math as math"
   ]
  },
  {
   "cell_type": "code",
   "execution_count": 2,
   "metadata": {},
   "outputs": [
    {
     "data": {
      "text/html": [
       "<div>\n",
       "<style scoped>\n",
       "    .dataframe tbody tr th:only-of-type {\n",
       "        vertical-align: middle;\n",
       "    }\n",
       "\n",
       "    .dataframe tbody tr th {\n",
       "        vertical-align: top;\n",
       "    }\n",
       "\n",
       "    .dataframe thead th {\n",
       "        text-align: right;\n",
       "    }\n",
       "</style>\n",
       "<table border=\"1\" class=\"dataframe\">\n",
       "  <thead>\n",
       "    <tr style=\"text-align: right;\">\n",
       "      <th></th>\n",
       "      <th>Elevation(meters)</th>\n",
       "      <th>Aspect(degrees)</th>\n",
       "      <th>Slope(degrees)</th>\n",
       "      <th>Horizontal_Distance_To_Hydrology(meters)</th>\n",
       "      <th>Vertical_Distance_To_Hydrology(meters)</th>\n",
       "      <th>Horizontal_Distance_To_Roadways(meters)</th>\n",
       "      <th>Hillshade_9am</th>\n",
       "      <th>Hillshade_Noon</th>\n",
       "      <th>Hillshade_3pm</th>\n",
       "      <th>Horizontal_Distance_To_Fire_Points(meters)</th>\n",
       "      <th>...</th>\n",
       "      <th>Soil_Type_32</th>\n",
       "      <th>Soil_Type_33</th>\n",
       "      <th>Soil_Type_34</th>\n",
       "      <th>Soil_Type_35</th>\n",
       "      <th>Soil_Type_36</th>\n",
       "      <th>Soil_Type_37</th>\n",
       "      <th>Soil_Type_38</th>\n",
       "      <th>Soil_Type_39</th>\n",
       "      <th>Soil_Type_40</th>\n",
       "      <th>Cover_Type</th>\n",
       "    </tr>\n",
       "  </thead>\n",
       "  <tbody>\n",
       "    <tr>\n",
       "      <td>0</td>\n",
       "      <td>2982</td>\n",
       "      <td>186</td>\n",
       "      <td>14</td>\n",
       "      <td>323</td>\n",
       "      <td>66</td>\n",
       "      <td>5351</td>\n",
       "      <td>222</td>\n",
       "      <td>249</td>\n",
       "      <td>158</td>\n",
       "      <td>1530</td>\n",
       "      <td>...</td>\n",
       "      <td>0</td>\n",
       "      <td>0</td>\n",
       "      <td>0</td>\n",
       "      <td>0</td>\n",
       "      <td>0</td>\n",
       "      <td>0</td>\n",
       "      <td>0</td>\n",
       "      <td>0</td>\n",
       "      <td>0</td>\n",
       "      <td>5</td>\n",
       "    </tr>\n",
       "    <tr>\n",
       "      <td>1</td>\n",
       "      <td>2929</td>\n",
       "      <td>243</td>\n",
       "      <td>15</td>\n",
       "      <td>335</td>\n",
       "      <td>33</td>\n",
       "      <td>5778</td>\n",
       "      <td>189</td>\n",
       "      <td>251</td>\n",
       "      <td>198</td>\n",
       "      <td>6429</td>\n",
       "      <td>...</td>\n",
       "      <td>0</td>\n",
       "      <td>0</td>\n",
       "      <td>0</td>\n",
       "      <td>0</td>\n",
       "      <td>0</td>\n",
       "      <td>0</td>\n",
       "      <td>0</td>\n",
       "      <td>0</td>\n",
       "      <td>0</td>\n",
       "      <td>7</td>\n",
       "    </tr>\n",
       "    <tr>\n",
       "      <td>2</td>\n",
       "      <td>3051</td>\n",
       "      <td>162</td>\n",
       "      <td>12</td>\n",
       "      <td>1224</td>\n",
       "      <td>253</td>\n",
       "      <td>3182</td>\n",
       "      <td>231</td>\n",
       "      <td>243</td>\n",
       "      <td>142</td>\n",
       "      <td>1167</td>\n",
       "      <td>...</td>\n",
       "      <td>0</td>\n",
       "      <td>0</td>\n",
       "      <td>1</td>\n",
       "      <td>0</td>\n",
       "      <td>0</td>\n",
       "      <td>0</td>\n",
       "      <td>0</td>\n",
       "      <td>0</td>\n",
       "      <td>0</td>\n",
       "      <td>5</td>\n",
       "    </tr>\n",
       "    <tr>\n",
       "      <td>3</td>\n",
       "      <td>3090</td>\n",
       "      <td>345</td>\n",
       "      <td>17</td>\n",
       "      <td>362</td>\n",
       "      <td>92</td>\n",
       "      <td>2460</td>\n",
       "      <td>184</td>\n",
       "      <td>211</td>\n",
       "      <td>164</td>\n",
       "      <td>2384</td>\n",
       "      <td>...</td>\n",
       "      <td>0</td>\n",
       "      <td>0</td>\n",
       "      <td>0</td>\n",
       "      <td>0</td>\n",
       "      <td>0</td>\n",
       "      <td>0</td>\n",
       "      <td>0</td>\n",
       "      <td>0</td>\n",
       "      <td>0</td>\n",
       "      <td>7</td>\n",
       "    </tr>\n",
       "    <tr>\n",
       "      <td>4</td>\n",
       "      <td>3023</td>\n",
       "      <td>4</td>\n",
       "      <td>9</td>\n",
       "      <td>234</td>\n",
       "      <td>51</td>\n",
       "      <td>4994</td>\n",
       "      <td>208</td>\n",
       "      <td>222</td>\n",
       "      <td>151</td>\n",
       "      <td>3813</td>\n",
       "      <td>...</td>\n",
       "      <td>0</td>\n",
       "      <td>0</td>\n",
       "      <td>0</td>\n",
       "      <td>0</td>\n",
       "      <td>0</td>\n",
       "      <td>0</td>\n",
       "      <td>0</td>\n",
       "      <td>0</td>\n",
       "      <td>0</td>\n",
       "      <td>7</td>\n",
       "    </tr>\n",
       "  </tbody>\n",
       "</table>\n",
       "<p>5 rows × 55 columns</p>\n",
       "</div>"
      ],
      "text/plain": [
       "   Elevation(meters)  Aspect(degrees)  Slope(degrees)  \\\n",
       "0               2982              186              14   \n",
       "1               2929              243              15   \n",
       "2               3051              162              12   \n",
       "3               3090              345              17   \n",
       "4               3023                4               9   \n",
       "\n",
       "   Horizontal_Distance_To_Hydrology(meters)  \\\n",
       "0                                       323   \n",
       "1                                       335   \n",
       "2                                      1224   \n",
       "3                                       362   \n",
       "4                                       234   \n",
       "\n",
       "   Vertical_Distance_To_Hydrology(meters)  \\\n",
       "0                                      66   \n",
       "1                                      33   \n",
       "2                                     253   \n",
       "3                                      92   \n",
       "4                                      51   \n",
       "\n",
       "   Horizontal_Distance_To_Roadways(meters)  Hillshade_9am  Hillshade_Noon  \\\n",
       "0                                     5351            222             249   \n",
       "1                                     5778            189             251   \n",
       "2                                     3182            231             243   \n",
       "3                                     2460            184             211   \n",
       "4                                     4994            208             222   \n",
       "\n",
       "   Hillshade_3pm  Horizontal_Distance_To_Fire_Points(meters)  ...  \\\n",
       "0            158                                        1530  ...   \n",
       "1            198                                        6429  ...   \n",
       "2            142                                        1167  ...   \n",
       "3            164                                        2384  ...   \n",
       "4            151                                        3813  ...   \n",
       "\n",
       "   Soil_Type_32  Soil_Type_33  Soil_Type_34  Soil_Type_35  Soil_Type_36  \\\n",
       "0             0             0             0             0             0   \n",
       "1             0             0             0             0             0   \n",
       "2             0             0             1             0             0   \n",
       "3             0             0             0             0             0   \n",
       "4             0             0             0             0             0   \n",
       "\n",
       "   Soil_Type_37  Soil_Type_38  Soil_Type_39  Soil_Type_40  Cover_Type  \n",
       "0             0             0             0             0           5  \n",
       "1             0             0             0             0           7  \n",
       "2             0             0             0             0           5  \n",
       "3             0             0             0             0           7  \n",
       "4             0             0             0             0           7  \n",
       "\n",
       "[5 rows x 55 columns]"
      ]
     },
     "execution_count": 2,
     "metadata": {},
     "output_type": "execute_result"
    }
   ],
   "source": [
    "train_data = pd.read_csv('train.csv', sep = \",\" )\n",
    "train_data.head()"
   ]
  },
  {
   "cell_type": "code",
   "execution_count": 3,
   "metadata": {},
   "outputs": [
    {
     "name": "stdout",
     "output_type": "stream",
     "text": [
      "<class 'pandas.core.frame.DataFrame'>\n",
      "RangeIndex: 29050 entries, 0 to 29049\n",
      "Data columns (total 55 columns):\n",
      "Elevation(meters)                             29050 non-null int64\n",
      "Aspect(degrees)                               29050 non-null int64\n",
      "Slope(degrees)                                29050 non-null int64\n",
      "Horizontal_Distance_To_Hydrology(meters)      29050 non-null int64\n",
      "Vertical_Distance_To_Hydrology(meters)        29050 non-null int64\n",
      "Horizontal_Distance_To_Roadways(meters)       29050 non-null int64\n",
      "Hillshade_9am                                 29050 non-null int64\n",
      "Hillshade_Noon                                29050 non-null int64\n",
      "Hillshade_3pm                                 29050 non-null int64\n",
      "Horizontal_Distance_To_Fire_Points(meters)    29050 non-null int64\n",
      "Wilderness_Area_1                             29050 non-null int64\n",
      "Wilderness_Area_2                             29050 non-null int64\n",
      "Wilderness_Area_3                             29050 non-null int64\n",
      "Wilderness_Area_4                             29050 non-null int64\n",
      "Soil_Type_1                                   29050 non-null int64\n",
      "Soil_Type_2                                   29050 non-null int64\n",
      "Soil_Type_3                                   29050 non-null int64\n",
      "Soil_Type_4                                   29050 non-null int64\n",
      "Soil_Type_5                                   29050 non-null int64\n",
      "Soil_Type_6                                   29050 non-null int64\n",
      "Soil_Type_7                                   29050 non-null int64\n",
      "Soil_Type_8                                   29050 non-null int64\n",
      "Soil_Type_9                                   29050 non-null int64\n",
      "Soil_Type_10                                  29050 non-null int64\n",
      "Soil_Type_11                                  29050 non-null int64\n",
      "Soil_Type_12                                  29050 non-null int64\n",
      "Soil_Type_13                                  29050 non-null int64\n",
      "Soil_Type_14                                  29050 non-null int64\n",
      "Soil_Type_15                                  29050 non-null int64\n",
      "Soil_Type_16                                  29050 non-null int64\n",
      "Soil_Type_17                                  29050 non-null int64\n",
      "Soil_Type_18                                  29050 non-null int64\n",
      "Soil_Type_19                                  29050 non-null int64\n",
      "Soil_Type_20                                  29050 non-null int64\n",
      "Soil_Type_21                                  29050 non-null int64\n",
      "Soil_Type_22                                  29050 non-null int64\n",
      "Soil_Type_23                                  29050 non-null int64\n",
      "Soil_Type_24                                  29050 non-null int64\n",
      "Soil_Type_25                                  29050 non-null int64\n",
      "Soil_Type_26                                  29050 non-null int64\n",
      "Soil_Type_27                                  29050 non-null int64\n",
      "Soil_Type_28                                  29050 non-null int64\n",
      "Soil_Type_29                                  29050 non-null int64\n",
      "Soil_Type_30                                  29050 non-null int64\n",
      "Soil_Type_31                                  29050 non-null int64\n",
      "Soil_Type_32                                  29050 non-null int64\n",
      "Soil_Type_33                                  29050 non-null int64\n",
      "Soil_Type_34                                  29050 non-null int64\n",
      "Soil_Type_35                                  29050 non-null int64\n",
      "Soil_Type_36                                  29050 non-null int64\n",
      "Soil_Type_37                                  29050 non-null int64\n",
      "Soil_Type_38                                  29050 non-null int64\n",
      "Soil_Type_39                                  29050 non-null int64\n",
      "Soil_Type_40                                  29050 non-null int64\n",
      "Cover_Type                                    29050 non-null int64\n",
      "dtypes: int64(55)\n",
      "memory usage: 12.2 MB\n"
     ]
    }
   ],
   "source": [
    "train_data.info()"
   ]
  },
  {
   "cell_type": "code",
   "execution_count": 4,
   "metadata": {},
   "outputs": [
    {
     "data": {
      "text/plain": [
       "Elevation(meters)                             0\n",
       "Aspect(degrees)                               0\n",
       "Slope(degrees)                                0\n",
       "Horizontal_Distance_To_Hydrology(meters)      0\n",
       "Vertical_Distance_To_Hydrology(meters)        0\n",
       "Horizontal_Distance_To_Roadways(meters)       0\n",
       "Hillshade_9am                                 0\n",
       "Hillshade_Noon                                0\n",
       "Hillshade_3pm                                 0\n",
       "Horizontal_Distance_To_Fire_Points(meters)    0\n",
       "Wilderness_Area_1                             0\n",
       "Wilderness_Area_2                             0\n",
       "Wilderness_Area_3                             0\n",
       "Wilderness_Area_4                             0\n",
       "Soil_Type_1                                   0\n",
       "Soil_Type_2                                   0\n",
       "Soil_Type_3                                   0\n",
       "Soil_Type_4                                   0\n",
       "Soil_Type_5                                   0\n",
       "Soil_Type_6                                   0\n",
       "Soil_Type_7                                   0\n",
       "Soil_Type_8                                   0\n",
       "Soil_Type_9                                   0\n",
       "Soil_Type_10                                  0\n",
       "Soil_Type_11                                  0\n",
       "Soil_Type_12                                  0\n",
       "Soil_Type_13                                  0\n",
       "Soil_Type_14                                  0\n",
       "Soil_Type_15                                  0\n",
       "Soil_Type_16                                  0\n",
       "Soil_Type_17                                  0\n",
       "Soil_Type_18                                  0\n",
       "Soil_Type_19                                  0\n",
       "Soil_Type_20                                  0\n",
       "Soil_Type_21                                  0\n",
       "Soil_Type_22                                  0\n",
       "Soil_Type_23                                  0\n",
       "Soil_Type_24                                  0\n",
       "Soil_Type_25                                  0\n",
       "Soil_Type_26                                  0\n",
       "Soil_Type_27                                  0\n",
       "Soil_Type_28                                  0\n",
       "Soil_Type_29                                  0\n",
       "Soil_Type_30                                  0\n",
       "Soil_Type_31                                  0\n",
       "Soil_Type_32                                  0\n",
       "Soil_Type_33                                  0\n",
       "Soil_Type_34                                  0\n",
       "Soil_Type_35                                  0\n",
       "Soil_Type_36                                  0\n",
       "Soil_Type_37                                  0\n",
       "Soil_Type_38                                  0\n",
       "Soil_Type_39                                  0\n",
       "Soil_Type_40                                  0\n",
       "Cover_Type                                    0\n",
       "dtype: int64"
      ]
     },
     "execution_count": 4,
     "metadata": {},
     "output_type": "execute_result"
    }
   ],
   "source": [
    "train_data.isna().sum()"
   ]
  },
  {
   "cell_type": "code",
   "execution_count": 6,
   "metadata": {},
   "outputs": [
    {
     "data": {
      "text/html": [
       "<div>\n",
       "<style scoped>\n",
       "    .dataframe tbody tr th:only-of-type {\n",
       "        vertical-align: middle;\n",
       "    }\n",
       "\n",
       "    .dataframe tbody tr th {\n",
       "        vertical-align: top;\n",
       "    }\n",
       "\n",
       "    .dataframe thead th {\n",
       "        text-align: right;\n",
       "    }\n",
       "</style>\n",
       "<table border=\"1\" class=\"dataframe\">\n",
       "  <thead>\n",
       "    <tr style=\"text-align: right;\">\n",
       "      <th></th>\n",
       "      <th>Elevation(meters)</th>\n",
       "      <th>Aspect(degrees)</th>\n",
       "      <th>Slope(degrees)</th>\n",
       "      <th>Horizontal_Distance_To_Hydrology(meters)</th>\n",
       "      <th>Vertical_Distance_To_Hydrology(meters)</th>\n",
       "      <th>Horizontal_Distance_To_Roadways(meters)</th>\n",
       "      <th>Hillshade_9am</th>\n",
       "      <th>Hillshade_Noon</th>\n",
       "      <th>Hillshade_3pm</th>\n",
       "      <th>Horizontal_Distance_To_Fire_Points(meters)</th>\n",
       "      <th>...</th>\n",
       "      <th>Soil_Type_32</th>\n",
       "      <th>Soil_Type_33</th>\n",
       "      <th>Soil_Type_34</th>\n",
       "      <th>Soil_Type_35</th>\n",
       "      <th>Soil_Type_36</th>\n",
       "      <th>Soil_Type_37</th>\n",
       "      <th>Soil_Type_38</th>\n",
       "      <th>Soil_Type_39</th>\n",
       "      <th>Soil_Type_40</th>\n",
       "      <th>Cover_Type</th>\n",
       "    </tr>\n",
       "  </thead>\n",
       "  <tbody>\n",
       "    <tr>\n",
       "      <td>count</td>\n",
       "      <td>29050.000000</td>\n",
       "      <td>29050.000000</td>\n",
       "      <td>29050.000000</td>\n",
       "      <td>29050.000000</td>\n",
       "      <td>29050.000000</td>\n",
       "      <td>29050.000000</td>\n",
       "      <td>29050.000000</td>\n",
       "      <td>29050.000000</td>\n",
       "      <td>29050.000000</td>\n",
       "      <td>29050.000000</td>\n",
       "      <td>...</td>\n",
       "      <td>29050.000000</td>\n",
       "      <td>29050.000000</td>\n",
       "      <td>29050.000000</td>\n",
       "      <td>29050.000000</td>\n",
       "      <td>29050.000000</td>\n",
       "      <td>29050.000000</td>\n",
       "      <td>29050.000000</td>\n",
       "      <td>29050.000000</td>\n",
       "      <td>29050.000000</td>\n",
       "      <td>29050.000000</td>\n",
       "    </tr>\n",
       "    <tr>\n",
       "      <td>mean</td>\n",
       "      <td>2959.328330</td>\n",
       "      <td>155.720241</td>\n",
       "      <td>14.028537</td>\n",
       "      <td>269.220792</td>\n",
       "      <td>46.332737</td>\n",
       "      <td>2346.340241</td>\n",
       "      <td>212.042134</td>\n",
       "      <td>223.446850</td>\n",
       "      <td>142.854630</td>\n",
       "      <td>1971.574871</td>\n",
       "      <td>...</td>\n",
       "      <td>0.091738</td>\n",
       "      <td>0.078967</td>\n",
       "      <td>0.002719</td>\n",
       "      <td>0.003064</td>\n",
       "      <td>0.000207</td>\n",
       "      <td>0.000379</td>\n",
       "      <td>0.027539</td>\n",
       "      <td>0.023821</td>\n",
       "      <td>0.014561</td>\n",
       "      <td>5.536110</td>\n",
       "    </tr>\n",
       "    <tr>\n",
       "      <td>std</td>\n",
       "      <td>277.578227</td>\n",
       "      <td>112.109417</td>\n",
       "      <td>7.458200</td>\n",
       "      <td>212.406921</td>\n",
       "      <td>58.938186</td>\n",
       "      <td>1558.148732</td>\n",
       "      <td>26.678889</td>\n",
       "      <td>19.610671</td>\n",
       "      <td>38.000582</td>\n",
       "      <td>1321.145310</td>\n",
       "      <td>...</td>\n",
       "      <td>0.288661</td>\n",
       "      <td>0.269692</td>\n",
       "      <td>0.052078</td>\n",
       "      <td>0.055267</td>\n",
       "      <td>0.014370</td>\n",
       "      <td>0.019456</td>\n",
       "      <td>0.163650</td>\n",
       "      <td>0.152494</td>\n",
       "      <td>0.119790</td>\n",
       "      <td>1.438261</td>\n",
       "    </tr>\n",
       "    <tr>\n",
       "      <td>min</td>\n",
       "      <td>1879.000000</td>\n",
       "      <td>0.000000</td>\n",
       "      <td>0.000000</td>\n",
       "      <td>0.000000</td>\n",
       "      <td>-166.000000</td>\n",
       "      <td>0.000000</td>\n",
       "      <td>58.000000</td>\n",
       "      <td>63.000000</td>\n",
       "      <td>0.000000</td>\n",
       "      <td>0.000000</td>\n",
       "      <td>...</td>\n",
       "      <td>0.000000</td>\n",
       "      <td>0.000000</td>\n",
       "      <td>0.000000</td>\n",
       "      <td>0.000000</td>\n",
       "      <td>0.000000</td>\n",
       "      <td>0.000000</td>\n",
       "      <td>0.000000</td>\n",
       "      <td>0.000000</td>\n",
       "      <td>0.000000</td>\n",
       "      <td>1.000000</td>\n",
       "    </tr>\n",
       "    <tr>\n",
       "      <td>25%</td>\n",
       "      <td>2809.000000</td>\n",
       "      <td>58.000000</td>\n",
       "      <td>9.000000</td>\n",
       "      <td>108.000000</td>\n",
       "      <td>7.000000</td>\n",
       "      <td>1103.000000</td>\n",
       "      <td>198.000000</td>\n",
       "      <td>213.000000</td>\n",
       "      <td>120.000000</td>\n",
       "      <td>1020.000000</td>\n",
       "      <td>...</td>\n",
       "      <td>0.000000</td>\n",
       "      <td>0.000000</td>\n",
       "      <td>0.000000</td>\n",
       "      <td>0.000000</td>\n",
       "      <td>0.000000</td>\n",
       "      <td>0.000000</td>\n",
       "      <td>0.000000</td>\n",
       "      <td>0.000000</td>\n",
       "      <td>0.000000</td>\n",
       "      <td>5.000000</td>\n",
       "    </tr>\n",
       "    <tr>\n",
       "      <td>50%</td>\n",
       "      <td>2995.000000</td>\n",
       "      <td>128.000000</td>\n",
       "      <td>13.000000</td>\n",
       "      <td>218.000000</td>\n",
       "      <td>29.000000</td>\n",
       "      <td>1984.000000</td>\n",
       "      <td>218.000000</td>\n",
       "      <td>226.000000</td>\n",
       "      <td>143.000000</td>\n",
       "      <td>1704.000000</td>\n",
       "      <td>...</td>\n",
       "      <td>0.000000</td>\n",
       "      <td>0.000000</td>\n",
       "      <td>0.000000</td>\n",
       "      <td>0.000000</td>\n",
       "      <td>0.000000</td>\n",
       "      <td>0.000000</td>\n",
       "      <td>0.000000</td>\n",
       "      <td>0.000000</td>\n",
       "      <td>0.000000</td>\n",
       "      <td>5.000000</td>\n",
       "    </tr>\n",
       "    <tr>\n",
       "      <td>75%</td>\n",
       "      <td>3161.000000</td>\n",
       "      <td>262.000000</td>\n",
       "      <td>18.000000</td>\n",
       "      <td>390.000000</td>\n",
       "      <td>69.000000</td>\n",
       "      <td>3329.750000</td>\n",
       "      <td>231.000000</td>\n",
       "      <td>237.000000</td>\n",
       "      <td>168.000000</td>\n",
       "      <td>2536.000000</td>\n",
       "      <td>...</td>\n",
       "      <td>0.000000</td>\n",
       "      <td>0.000000</td>\n",
       "      <td>0.000000</td>\n",
       "      <td>0.000000</td>\n",
       "      <td>0.000000</td>\n",
       "      <td>0.000000</td>\n",
       "      <td>0.000000</td>\n",
       "      <td>0.000000</td>\n",
       "      <td>0.000000</td>\n",
       "      <td>7.000000</td>\n",
       "    </tr>\n",
       "    <tr>\n",
       "      <td>max</td>\n",
       "      <td>3844.000000</td>\n",
       "      <td>360.000000</td>\n",
       "      <td>61.000000</td>\n",
       "      <td>1320.000000</td>\n",
       "      <td>589.000000</td>\n",
       "      <td>7087.000000</td>\n",
       "      <td>254.000000</td>\n",
       "      <td>254.000000</td>\n",
       "      <td>251.000000</td>\n",
       "      <td>7142.000000</td>\n",
       "      <td>...</td>\n",
       "      <td>1.000000</td>\n",
       "      <td>1.000000</td>\n",
       "      <td>1.000000</td>\n",
       "      <td>1.000000</td>\n",
       "      <td>1.000000</td>\n",
       "      <td>1.000000</td>\n",
       "      <td>1.000000</td>\n",
       "      <td>1.000000</td>\n",
       "      <td>1.000000</td>\n",
       "      <td>7.000000</td>\n",
       "    </tr>\n",
       "  </tbody>\n",
       "</table>\n",
       "<p>8 rows × 55 columns</p>\n",
       "</div>"
      ],
      "text/plain": [
       "       Elevation(meters)  Aspect(degrees)  Slope(degrees)  \\\n",
       "count       29050.000000     29050.000000    29050.000000   \n",
       "mean         2959.328330       155.720241       14.028537   \n",
       "std           277.578227       112.109417        7.458200   \n",
       "min          1879.000000         0.000000        0.000000   \n",
       "25%          2809.000000        58.000000        9.000000   \n",
       "50%          2995.000000       128.000000       13.000000   \n",
       "75%          3161.000000       262.000000       18.000000   \n",
       "max          3844.000000       360.000000       61.000000   \n",
       "\n",
       "       Horizontal_Distance_To_Hydrology(meters)  \\\n",
       "count                              29050.000000   \n",
       "mean                                 269.220792   \n",
       "std                                  212.406921   \n",
       "min                                    0.000000   \n",
       "25%                                  108.000000   \n",
       "50%                                  218.000000   \n",
       "75%                                  390.000000   \n",
       "max                                 1320.000000   \n",
       "\n",
       "       Vertical_Distance_To_Hydrology(meters)  \\\n",
       "count                            29050.000000   \n",
       "mean                                46.332737   \n",
       "std                                 58.938186   \n",
       "min                               -166.000000   \n",
       "25%                                  7.000000   \n",
       "50%                                 29.000000   \n",
       "75%                                 69.000000   \n",
       "max                                589.000000   \n",
       "\n",
       "       Horizontal_Distance_To_Roadways(meters)  Hillshade_9am  Hillshade_Noon  \\\n",
       "count                             29050.000000   29050.000000    29050.000000   \n",
       "mean                               2346.340241     212.042134      223.446850   \n",
       "std                                1558.148732      26.678889       19.610671   \n",
       "min                                   0.000000      58.000000       63.000000   \n",
       "25%                                1103.000000     198.000000      213.000000   \n",
       "50%                                1984.000000     218.000000      226.000000   \n",
       "75%                                3329.750000     231.000000      237.000000   \n",
       "max                                7087.000000     254.000000      254.000000   \n",
       "\n",
       "       Hillshade_3pm  Horizontal_Distance_To_Fire_Points(meters)  ...  \\\n",
       "count   29050.000000                                29050.000000  ...   \n",
       "mean      142.854630                                 1971.574871  ...   \n",
       "std        38.000582                                 1321.145310  ...   \n",
       "min         0.000000                                    0.000000  ...   \n",
       "25%       120.000000                                 1020.000000  ...   \n",
       "50%       143.000000                                 1704.000000  ...   \n",
       "75%       168.000000                                 2536.000000  ...   \n",
       "max       251.000000                                 7142.000000  ...   \n",
       "\n",
       "       Soil_Type_32  Soil_Type_33  Soil_Type_34  Soil_Type_35  Soil_Type_36  \\\n",
       "count  29050.000000  29050.000000  29050.000000  29050.000000  29050.000000   \n",
       "mean       0.091738      0.078967      0.002719      0.003064      0.000207   \n",
       "std        0.288661      0.269692      0.052078      0.055267      0.014370   \n",
       "min        0.000000      0.000000      0.000000      0.000000      0.000000   \n",
       "25%        0.000000      0.000000      0.000000      0.000000      0.000000   \n",
       "50%        0.000000      0.000000      0.000000      0.000000      0.000000   \n",
       "75%        0.000000      0.000000      0.000000      0.000000      0.000000   \n",
       "max        1.000000      1.000000      1.000000      1.000000      1.000000   \n",
       "\n",
       "       Soil_Type_37  Soil_Type_38  Soil_Type_39  Soil_Type_40    Cover_Type  \n",
       "count  29050.000000  29050.000000  29050.000000  29050.000000  29050.000000  \n",
       "mean       0.000379      0.027539      0.023821      0.014561      5.536110  \n",
       "std        0.019456      0.163650      0.152494      0.119790      1.438261  \n",
       "min        0.000000      0.000000      0.000000      0.000000      1.000000  \n",
       "25%        0.000000      0.000000      0.000000      0.000000      5.000000  \n",
       "50%        0.000000      0.000000      0.000000      0.000000      5.000000  \n",
       "75%        0.000000      0.000000      0.000000      0.000000      7.000000  \n",
       "max        1.000000      1.000000      1.000000      1.000000      7.000000  \n",
       "\n",
       "[8 rows x 55 columns]"
      ]
     },
     "execution_count": 6,
     "metadata": {},
     "output_type": "execute_result"
    }
   ],
   "source": [
    "train_data.describe()"
   ]
  },
  {
   "cell_type": "code",
   "execution_count": 12,
   "metadata": {},
   "outputs": [
    {
     "data": {
      "text/plain": [
       "0     329.674081\n",
       "1     336.621449\n",
       "2    1249.873994\n",
       "3     373.507697\n",
       "4     239.493215\n",
       "Name: Total_Distance_To_Hydrology, dtype: float64"
      ]
     },
     "execution_count": 12,
     "metadata": {},
     "output_type": "execute_result"
    }
   ],
   "source": [
    "train_data[\"Total_Distance_To_Hydrology\"] = np.sqrt( (np.power(train_data[\"Horizontal_Distance_To_Hydrology(meters)\"],2) + np.power(train_data[\"Vertical_Distance_To_Hydrology(meters)\"],2) ) )\n",
    "train_data[\"Total_Distance_To_Hydrology\"].head()"
   ]
  },
  {
   "cell_type": "code",
   "execution_count": 16,
   "metadata": {},
   "outputs": [
    {
     "data": {
      "text/plain": [
       "0    629\n",
       "1    638\n",
       "2    616\n",
       "3    559\n",
       "4    581\n",
       "Name: Total_Hillshade, dtype: int64"
      ]
     },
     "execution_count": 16,
     "metadata": {},
     "output_type": "execute_result"
    }
   ],
   "source": [
    "train_data[\"Total_Hillshade\"] = train_data[\"Hillshade_9am\"] + train_data[\"Hillshade_Noon\"] + train_data[\"Hillshade_3pm\"]\n",
    "train_data[\"Total_Hillshade\"].head()"
   ]
  },
  {
   "cell_type": "code",
   "execution_count": 46,
   "metadata": {},
   "outputs": [
    {
     "data": {
      "text/plain": [
       "0    Wilderness_Area_1\n",
       "1    Wilderness_Area_1\n",
       "2    Wilderness_Area_3\n",
       "3    Wilderness_Area_3\n",
       "4    Wilderness_Area_1\n",
       "Name: Wilderness_Area_Type, dtype: object"
      ]
     },
     "execution_count": 46,
     "metadata": {},
     "output_type": "execute_result"
    }
   ],
   "source": [
    "train_data['Wilderness_Area_Type'] = (train_data.iloc[:, 10:14] == 1).idxmax(1)\n",
    "train_data['Wilderness_Area_Type'].head()"
   ]
  },
  {
   "cell_type": "code",
   "execution_count": 47,
   "metadata": {},
   "outputs": [
    {
     "data": {
      "text/plain": [
       "Wilderness_Area_1    13097\n",
       "Wilderness_Area_3    12649\n",
       "Wilderness_Area_4     1842\n",
       "Wilderness_Area_2     1462\n",
       "Name: Wilderness_Area_Type, dtype: int64"
      ]
     },
     "execution_count": 47,
     "metadata": {},
     "output_type": "execute_result"
    }
   ],
   "source": [
    "train_data['Wilderness_Area_Type'].value_counts()"
   ]
  },
  {
   "cell_type": "code",
   "execution_count": 48,
   "metadata": {},
   "outputs": [],
   "source": [
    "train_data['Wilderness_Area_Type'] = train_data['Wilderness_Area_Type'].map({'Wilderness_Area_1': 0, 'Wilderness_Area_2': 1,'Wilderness_Area_3': 2, 'Wilderness_Area_4': 3})"
   ]
  },
  {
   "cell_type": "code",
   "execution_count": 49,
   "metadata": {},
   "outputs": [
    {
     "data": {
      "text/plain": [
       "0    13097\n",
       "2    12649\n",
       "3     1842\n",
       "1     1462\n",
       "Name: Wilderness_Area_Type, dtype: int64"
      ]
     },
     "execution_count": 49,
     "metadata": {},
     "output_type": "execute_result"
    }
   ],
   "source": [
    "train_data['Wilderness_Area_Type'].value_counts()"
   ]
  },
  {
   "cell_type": "code",
   "execution_count": 54,
   "metadata": {},
   "outputs": [
    {
     "data": {
      "text/plain": [
       "<matplotlib.axes._subplots.AxesSubplot at 0x26010327f08>"
      ]
     },
     "execution_count": 54,
     "metadata": {},
     "output_type": "execute_result"
    },
    {
     "data": {
      "image/png": "[encoded data removed]",
      "text/plain": [
       "<Figure size 432x288 with 1 Axes>"
      ]
     },
     "metadata": {
      "needs_background": "light"
     },
     "output_type": "display_data"
    }
   ],
   "source": [
    "sns.countplot(x=\"Wilderness_Area_Type\", data=train_data)"
   ]
  },
  {
   "cell_type": "code",
   "execution_count": 30,
   "metadata": {},
   "outputs": [
    {
     "data": {
      "text/plain": [
       "0    Soil_Type_30\n",
       "1    Soil_Type_29\n",
       "2    Soil_Type_34\n",
       "3    Soil_Type_24\n",
       "4    Soil_Type_29\n",
       "Name: Soil_Type, dtype: object"
      ]
     },
     "execution_count": 30,
     "metadata": {},
     "output_type": "execute_result"
    }
   ],
   "source": [
    "train_data['Soil_Type'] = (train_data.iloc[:, 14:55] == 1).idxmax(1)\n",
    "train_data['Soil_Type'].head()"
   ]
  },
  {
   "cell_type": "code",
   "execution_count": 33,
   "metadata": {},
   "outputs": [
    {
     "data": {
      "text/plain": [
       "Soil_Type_29    5815\n",
       "Soil_Type_23    2820\n",
       "Soil_Type_32    2665\n",
       "Soil_Type_33    2294\n",
       "Soil_Type_22    1662\n",
       "Soil_Type_10    1600\n",
       "Soil_Type_30    1506\n",
       "Soil_Type_12    1498\n",
       "Soil_Type_31    1222\n",
       "Soil_Type_24    1067\n",
       "Soil_Type_13     895\n",
       "Soil_Type_38     800\n",
       "Soil_Type_39     692\n",
       "Soil_Type_4      624\n",
       "Soil_Type_11     606\n",
       "Soil_Type_20     494\n",
       "Soil_Type_40     423\n",
       "Soil_Type_6      371\n",
       "Soil_Type_2      347\n",
       "Soil_Type_3      230\n",
       "Soil_Type_19     199\n",
       "Soil_Type_17     181\n",
       "Soil_Type_1      140\n",
       "Soil_Type_16     138\n",
       "Soil_Type_26     125\n",
       "Soil_Type_18      96\n",
       "Soil_Type_35      89\n",
       "Soil_Type_5       79\n",
       "Soil_Type_34      79\n",
       "Soil_Type_9       58\n",
       "Soil_Type_28      53\n",
       "Soil_Type_27      53\n",
       "Soil_Type_21      37\n",
       "Soil_Type_14      34\n",
       "Soil_Type_25      17\n",
       "Soil_Type_8       15\n",
       "Soil_Type_37      11\n",
       "Soil_Type_7        9\n",
       "Soil_Type_36       6\n",
       "Name: Soil_Type, dtype: int64"
      ]
     },
     "execution_count": 33,
     "metadata": {},
     "output_type": "execute_result"
    }
   ],
   "source": [
    "train_data['Soil_Type'].value_counts()"
   ]
  },
  {
   "cell_type": "code",
   "execution_count": 51,
   "metadata": {},
   "outputs": [],
   "source": [
    "train_data['Soil_Type'] = train_data['Soil_Type'].map({'Soil_Type_1': 0, 'Soil_Type_2': 1,'Soil_Type_3': 2, 'Soil_Type_4': 3,'Soil_Type_5': 4,\n",
    "                                                       'Soil_Type_6': 5, 'Soil_Type_7': 6,'Soil_Type_8': 7, 'Soil_Type_9': 8,'Soil_Type_10': 9,\n",
    "                                                       'Soil_Type_11': 10, 'Soil_Type_12': 11,'Soil_Type_13': 12, 'Soil_Type_14': 13,'Soil_Type_15': 14,\n",
    "                                                       'Soil_Type_16': 15, 'Soil_Type_17': 16,'Soil_Type_18': 17, 'Soil_Type_19': 18,'Soil_Type_20': 19,\n",
    "                                                       'Soil_Type_21': 20, 'Soil_Type_22': 21,'Soil_Type_23': 22, 'Soil_Type_24': 23,'Soil_Type_25': 24,\n",
    "                                                       'Soil_Type_26': 25, 'Soil_Type_27': 26,'Soil_Type_28': 27, 'Soil_Type_29': 28,'Soil_Type_30': 29,\n",
    "                                                       'Soil_Type_31': 30, 'Soil_Type_32': 31,'Soil_Type_33': 32, 'Soil_Type_34': 33,'Soil_Type_35': 34,\n",
    "                                                       'Soil_Type_36': 35, 'Soil_Type_37': 36,'Soil_Type_38': 37, 'Soil_Type_39': 38,'Soil_Type_40': 39\n",
    "                                                      })"
   ]
  },
  {
   "cell_type": "code",
   "execution_count": 52,
   "metadata": {},
   "outputs": [
    {
     "data": {
      "text/plain": [
       "28    5815\n",
       "22    2820\n",
       "31    2665\n",
       "32    2294\n",
       "21    1662\n",
       "9     1600\n",
       "29    1506\n",
       "11    1498\n",
       "30    1222\n",
       "23    1067\n",
       "12     895\n",
       "37     800\n",
       "38     692\n",
       "3      624\n",
       "10     606\n",
       "19     494\n",
       "39     423\n",
       "5      371\n",
       "1      347\n",
       "2      230\n",
       "18     199\n",
       "16     181\n",
       "0      140\n",
       "15     138\n",
       "25     125\n",
       "17      96\n",
       "34      89\n",
       "4       79\n",
       "33      79\n",
       "8       58\n",
       "26      53\n",
       "27      53\n",
       "20      37\n",
       "13      34\n",
       "24      17\n",
       "7       15\n",
       "36      11\n",
       "6        9\n",
       "35       6\n",
       "Name: Soil_Type, dtype: int64"
      ]
     },
     "execution_count": 52,
     "metadata": {},
     "output_type": "execute_result"
    }
   ],
   "source": [
    "train_data['Soil_Type'].value_counts()"
   ]
  },
  {
   "cell_type": "code",
   "execution_count": 53,
   "metadata": {},
   "outputs": [
    {
     "data": {
      "text/plain": [
       "<matplotlib.axes._subplots.AxesSubplot at 0x26010204548>"
      ]
     },
     "execution_count": 53,
     "metadata": {},
     "output_type": "execute_result"
    },
    {
     "data": {
      "image/png": "[encoded data removed]",
      "text/plain": [
       "<Figure size 432x288 with 1 Axes>"
      ]
     },
     "metadata": {
      "needs_background": "light"
     },
     "output_type": "display_data"
    }
   ],
   "source": [
    "sns.countplot(x=\"Soil_Type\", data=train_data)"
   ]
  },
  {
   "cell_type": "code",
   "execution_count": 34,
   "metadata": {},
   "outputs": [
    {
     "data": {
      "text/plain": [
       "5    14165\n",
       "7    10592\n",
       "6     1788\n",
       "1     1025\n",
       "3      868\n",
       "2      475\n",
       "4      137\n",
       "Name: Cover_Type, dtype: int64"
      ]
     },
     "execution_count": 34,
     "metadata": {},
     "output_type": "execute_result"
    }
   ],
   "source": [
    "train_data['Cover_Type'].value_counts()"
   ]
  },
  {
   "cell_type": "code",
   "execution_count": 13,
   "metadata": {},
   "outputs": [
    {
     "data": {
      "text/plain": [
       "<matplotlib.axes._subplots.AxesSubplot at 0x2600ecbfd88>"
      ]
     },
     "execution_count": 13,
     "metadata": {},
     "output_type": "execute_result"
    },
    {
     "data": {
      "image/png": "[encoded data removed]",
      "text/plain": [
       "<Figure size 432x288 with 1 Axes>"
      ]
     },
     "metadata": {
      "needs_background": "light"
     },
     "output_type": "display_data"
    }
   ],
   "source": [
    "sns.countplot(x=\"Cover_Type\", data=train_data)"
   ]
  },
  {
   "cell_type": "code",
   "execution_count": 55,
   "metadata": {},
   "outputs": [],
   "source": [
    "train_data_features = train_data[['Elevation(meters)', 'Aspect(degrees)', 'Slope(degrees)', 'Total_Distance_To_Hydrology', 'Total_Hillshade', 'Wilderness_Area_Type', 'Soil_Type', 'Cover_Type']]"
   ]
  },
  {
   "cell_type": "code",
   "execution_count": 56,
   "metadata": {},
   "outputs": [],
   "source": [
    "features = train_data_features.drop('Cover_Type', axis = 1)\n",
    "target = train_data_features['Cover_Type']"
   ]
  },
  {
   "cell_type": "code",
   "execution_count": 57,
   "metadata": {},
   "outputs": [],
   "source": [
    "from sklearn.model_selection import train_test_split "
   ]
  },
  {
   "cell_type": "code",
   "execution_count": 76,
   "metadata": {},
   "outputs": [
    {
     "name": "stdout",
     "output_type": "stream",
     "text": [
      "Train features shape :  (20335, 7)\n",
      "Train target shape   :  (20335,)\n",
      "Test features shape  :  (8715, 7)\n",
      "Test target shape    :  (8715,)\n"
     ]
    }
   ],
   "source": [
    "train_features, test_features, train_target, test_target = train_test_split(features, target, test_size = 0.3, random_state = 12)\n",
    "print(\"Train features shape : \", train_features.shape)\n",
    "print(\"Train target shape   : \", train_target.shape)\n",
    "print(\"Test features shape  : \", test_features.shape)\n",
    "print(\"Test target shape    : \", test_target.shape)"
   ]
  },
  {
   "cell_type": "code",
   "execution_count": 77,
   "metadata": {},
   "outputs": [],
   "source": [
    "from sklearn.tree import DecisionTreeClassifier\n",
    "from sklearn.ensemble import RandomForestClassifier"
   ]
  },
  {
   "cell_type": "code",
   "execution_count": 88,
   "metadata": {},
   "outputs": [
    {
     "name": "stderr",
     "output_type": "stream",
     "text": [
      "C:\\Users\\DELL\\Anaconda3\\lib\\site-packages\\sklearn\\ensemble\\forest.py:245: FutureWarning: The default value of n_estimators will change from 10 in version 0.20 to 100 in 0.22.\n",
      "  \"10 in version 0.20 to 100 in 0.22.\", FutureWarning)\n"
     ]
    },
    {
     "data": {
      "text/plain": [
       "RandomForestClassifier(bootstrap=True, class_weight=None, criterion='entropy',\n",
       "                       max_depth=None, max_features='auto', max_leaf_nodes=None,\n",
       "                       min_impurity_decrease=0.0, min_impurity_split=None,\n",
       "                       min_samples_leaf=1, min_samples_split=2,\n",
       "                       min_weight_fraction_leaf=0.0, n_estimators=10,\n",
       "                       n_jobs=None, oob_score=False, random_state=None,\n",
       "                       verbose=0, warm_start=False)"
      ]
     },
     "execution_count": 88,
     "metadata": {},
     "output_type": "execute_result"
    }
   ],
   "source": [
    "model = RandomForestClassifier(criterion='entropy')\n",
    "model.fit(train_features, train_target)"
   ]
  },
  {
   "cell_type": "code",
   "execution_count": 89,
   "metadata": {},
   "outputs": [],
   "source": [
    "from sklearn.metrics import accuracy_score"
   ]
  },
  {
   "cell_type": "code",
   "execution_count": 90,
   "metadata": {},
   "outputs": [
    {
     "name": "stdout",
     "output_type": "stream",
     "text": [
      "Training accuracy... 0.9861322842389968\n",
      "Test accuracy 0.7488238668961561\n"
     ]
    }
   ],
   "source": [
    "print('Training accuracy...', accuracy_score(train_target, model.predict(train_features)))\n",
    "print('Test accuracy', accuracy_score(test_target, model.predict(test_features)))"
   ]
  },
  {
   "cell_type": "code",
   "execution_count": null,
   "metadata": {},
   "outputs": [],
   "source": []
  }
 ],
 "metadata": {
  "kernelspec": {
   "display_name": "Python 3",
   "language": "python",
   "name": "python3"
  },
  "language_info": {
   "codemirror_mode": {
    "name": "ipython",
    "version": 3
   },
   "file_extension": ".py",
   "mimetype": "text/x-python",
   "name": "python",
   "nbconvert_exporter": "python",
   "pygments_lexer": "ipython3",
   "version": "3.7.4"
  }
 },
 "nbformat": 4,
 "nbformat_minor": 2
}
